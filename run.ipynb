{
 "cells": [
  {
   "cell_type": "code",
   "execution_count": 2,
   "id": "4d12af33-2aa9-4b5c-8219-55fbc928bee9",
   "metadata": {},
   "outputs": [],
   "source": [
    "%run main.py"
   ]
  },
  {
   "cell_type": "code",
   "execution_count": null,
   "id": "eea88837-3fc6-4f4a-8f0b-0458c3de5780",
   "metadata": {},
   "outputs": [],
   "source": []
  },
  {
   "cell_type": "code",
   "execution_count": null,
   "id": "b46f3d68-bec6-420e-8274-efd75a8f01f7",
   "metadata": {},
   "outputs": [],
   "source": []
  },
  {
   "cell_type": "code",
   "execution_count": null,
   "id": "50942ffd-d2ad-498b-919a-3d6b3420308c",
   "metadata": {},
   "outputs": [],
   "source": []
  },
  {
   "cell_type": "code",
   "execution_count": null,
   "id": "ef7fc4ed-4d3f-4d87-8b09-2afd217f5a2b",
   "metadata": {},
   "outputs": [],
   "source": []
  },
  {
   "cell_type": "code",
   "execution_count": null,
   "id": "46a25199-ebb6-4e78-b6b9-f2d886b05435",
   "metadata": {},
   "outputs": [],
   "source": []
  },
  {
   "cell_type": "code",
   "execution_count": null,
   "id": "32ce892a-7744-46a7-a0c2-fd00da293ac9",
   "metadata": {},
   "outputs": [],
   "source": []
  },
  {
   "cell_type": "code",
   "execution_count": null,
   "id": "043065c8-4101-45f3-9ae9-521466e7d9b4",
   "metadata": {},
   "outputs": [],
   "source": []
  },
  {
   "cell_type": "code",
   "execution_count": null,
   "id": "c3dd2854-9a93-4a32-b385-79c80ee0563b",
   "metadata": {},
   "outputs": [],
   "source": []
  },
  {
   "cell_type": "code",
   "execution_count": null,
   "id": "8a80f790-ec85-4f4c-980e-1a78c5572306",
   "metadata": {},
   "outputs": [],
   "source": []
  },
  {
   "cell_type": "code",
   "execution_count": null,
   "id": "ce46fd06-b234-4d29-b085-f66535b7bdcc",
   "metadata": {},
   "outputs": [],
   "source": []
  },
  {
   "cell_type": "code",
   "execution_count": null,
   "id": "9e6b5b08-b306-49aa-aba7-f1d421fcc6e2",
   "metadata": {},
   "outputs": [],
   "source": []
  },
  {
   "cell_type": "markdown",
   "id": "88871ca2-8401-42b9-963c-58c23cd79788",
   "metadata": {},
   "source": [
    "# Flashcards in a Flash\n",
    "##### Created by Josh Shen, Emmet Lewiecki, Ben Chou, Srinanda Yallapragada, Frank Chiu, and Vibhu Mogalapalli\n",
    "\n",
    "![logo here](readme_images/logo.png)\n",
    "\n",
    "If you're anything like us, you tend to procrastinate and have to study lots of material on a time crunch. When it comes to studying terms and definitions in a textbook, the process is pretty straightforward. **Flashcards in a Flash** automates this process by creating a flashcard set in Quizlet based on term and definition pairs that it finds. This is a massive improvement over having to comb through a textbook manually, identifying flashcard pairs, and then creating flashcards on Quizlet one-by-one yourself. Let **Flashcards in a Flash** do the heavy lifting so that you can focus on learning and review!\n",
    "\n",
    "## Setup\n",
    "Clone this repository to a local directory. Refer to [GitHub Pages](https://docs.github.com/en/repositories/creating-and-managing-repositories/cloning-a-repository) for more guidance if needed.\n",
    "\n",
    "Next, you should install the necessary packages to run **main.py**: *selenium*, *pytesseract*, and *tkinter*. You can install these using **pip**:\n",
    "- `pip install selenium`\n",
    "- `pip install pytesseract`\n",
    "- `pip install tk`\n",
    "\n",
    "You will also need to install a chrome driver for **quizletbot.py** to be able to run. To do this, go to [WebDriver for Chrome](https://chromedriver.chromium.org/downloads) download page and install a version that matches your version of Chrome. This should give you a zip file, which, when unzipped, will create a **chromedriver.exe** file. Save the path of this file and paste it into *line 15* of **quizletbot.py** such that the line now reads as \n",
    "\n",
    "`self.driver = webdriver.Chrome(executable_path = 'chromedriver_path')`\n",
    "\n",
    "Now your setup is done!\n",
    "\n",
    "## Running the Code\n",
    "To run the code, run **main.py**. This will open up a new Graphical User Interface window where you can copy/paste in the text that you want to use, or the file path of the image you want to use.\n",
    "\n",
    "![image here](readme_images/gui.png)\n",
    "\n",
    "Upon submitting text or an image, a new Chrome window should open and it will automatically go through the Quizlet interface to create your new flashcard set. \n",
    "\n",
    "![image here](readme_images/quizlet.png)\n",
    "\n",
    "This process should take about 30 seconds, depending on the size of your input. Enjoy!\n",
    "\n",
    "## Future Plans\n",
    "- Improve our Natural Language Processing model to create more accurate flashcard pairs\n",
    "- Create a website with an improved user interface\n",
    "- Create an actual Quizlet API or find another workaround to programmatically interact Quizlet without using web driver\n",
    "\n",
    "\n",
    "## Notes\n",
    "This project was created for HackUMass 1001\n",
    "\n",
    "If you have any questions or comments email us at jlshen@umass.edu\n",
    "\n",
    "If we end up making a website, it will be hosted at https://flashcardsinaflash.tech/\n",
    "\n",
    "Any future video content related to this project will be on the [Flashcards in a Flash](https://www.youtube.com/channel/UCkZHDzPeojOGCsy17b2PG2w) channel\n"
   ]
  },
  {
   "cell_type": "code",
   "execution_count": null,
   "id": "cef85b38-4b08-4da0-9671-465edf478bf1",
   "metadata": {},
   "outputs": [],
   "source": []
  },
  {
   "cell_type": "code",
   "execution_count": null,
   "id": "85af4de6-0393-461d-9a1d-15d024149a46",
   "metadata": {},
   "outputs": [],
   "source": []
  }
 ],
 "metadata": {
  "kernelspec": {
   "display_name": "Python 3",
   "language": "python",
   "name": "python3"
  },
  "language_info": {
   "codemirror_mode": {
    "name": "ipython",
    "version": 3
   },
   "file_extension": ".py",
   "mimetype": "text/x-python",
   "name": "python",
   "nbconvert_exporter": "python",
   "pygments_lexer": "ipython3",
   "version": "3.8.8"
  }
 },
 "nbformat": 4,
 "nbformat_minor": 5
}
