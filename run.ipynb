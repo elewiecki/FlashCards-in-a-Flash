{
 "cells": [
  {
   "cell_type": "code",
   "execution_count": 1,
   "id": "4d12af33-2aa9-4b5c-8219-55fbc928bee9",
   "metadata": {},
   "outputs": [],
   "source": [
    "'''\n",
    "this is the file we use to test our source code\n",
    "\n",
    "\n",
    "\n",
    "'''\n",
    "from selenium import webdriver\n",
    "import quizletbot as qb\n"
   ]
  },
  {
   "cell_type": "code",
   "execution_count": 2,
   "id": "eea88837-3fc6-4f4a-8f0b-0458c3de5780",
   "metadata": {},
   "outputs": [
    {
     "ename": "SyntaxError",
     "evalue": "invalid syntax (<ipython-input-2-b0e1686d1c73>, line 2)",
     "output_type": "error",
     "traceback": [
      "\u001b[1;36m  File \u001b[1;32m\"<ipython-input-2-b0e1686d1c73>\"\u001b[1;36m, line \u001b[1;32m2\u001b[0m\n\u001b[1;33m    bot.driver.find_element_by_xpath(\"//*[@id=\"TopNavigationReactTarget\"]/header/div/div[2]/div[3]/button\")\u001b[0m\n\u001b[1;37m                                               ^\u001b[0m\n\u001b[1;31mSyntaxError\u001b[0m\u001b[1;31m:\u001b[0m invalid syntax\n"
     ]
    }
   ],
   "source": [
    "bot = qb.QuizletBot(qb.cards)\n",
    "bot.driver.find_element_by_xpath(\"//*[@id=\"TopNavigationReactTarget\"]/header/div/div[2]/div[3]/button\")\n",
    "#WebDriverWait(bot.driver, 100).until(EC.element_to_be_clickable((By.XPATH, \"//*[@id=\"TopNavigationReactTarget\"]/header/div/div[2]/div[3]/button\")))"
   ]
  }
 ],
 "metadata": {
  "kernelspec": {
   "display_name": "Python 3",
   "language": "python",
   "name": "python3"
  },
  "language_info": {
   "codemirror_mode": {
    "name": "ipython",
    "version": 3
   },
   "file_extension": ".py",
   "mimetype": "text/x-python",
   "name": "python",
   "nbconvert_exporter": "python",
   "pygments_lexer": "ipython3",
   "version": "3.8.8"
  }
 },
 "nbformat": 4,
 "nbformat_minor": 5
}
