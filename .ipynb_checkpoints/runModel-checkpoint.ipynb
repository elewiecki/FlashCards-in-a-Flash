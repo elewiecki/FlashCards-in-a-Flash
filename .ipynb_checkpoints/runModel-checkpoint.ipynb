{
 "cells": [
  {
   "cell_type": "code",
   "execution_count": 1,
   "id": "f7df1e9d-b38b-4d7f-9a52-e926571edaa4",
   "metadata": {},
   "outputs": [],
   "source": [
    "import model as m"
   ]
  },
  {
   "cell_type": "code",
   "execution_count": 2,
   "id": "b810e5a8-4b9d-4c95-a62b-9c2ee041e1bb",
   "metadata": {},
   "outputs": [
    {
     "name": "stdout",
     "output_type": "stream",
     "text": [
      "{'word': 'Biology', 'definition': 'fascinating and important subject, because it dramatically affects our daily lives and our futures'}\n",
      "{'word': 'Science', 'definition': 'way of viewing the world that focuses on objective information, putting that information to work to build understanding'}\n",
      "{'word': 'After making careful observations concerning a particular area of science, scientists construct a hypothesis, which', 'definition': 'suggested explanation that accounts for those observations'}\n",
      "{'word': 'A hypothesis', 'definition': 'proposition that might be true'}\n",
      "{'word': 'A “theory”', 'definition': 'proposed explanation for some natural phenomenon, often based on some general principle'}\n",
      "{'word': 'Modern evolutionary theory', 'definition': 'complex body of ideas whose importance spreads far beyond explaining evolution; its ramifications permeate all areas of biology, and it provides the conceptual framework that unifies biology as a science'}\n",
      "{'word': 'Eratosthenes had heard that it', 'definition': '50-day camel trip from Alexandria to Syene'}\n",
      "{'word': 'They reason in two ways', 'definition': 'deductively and inductively'}\n",
      "{'word': 'From a host of simple, specific observations like this, Newton inferred a general principle', 'definition': 'all objects fall toward the center of the earth'}\n",
      "{'word': '3 Deductive reasoning', 'definition': 'How Eratosthenes estimated the circumference of the earth using deductive reasoning'}\n",
      "{'word': 'This is done by carrying out two experiments in parallel', 'definition': 'in the first experiment, one variable is altered in a specific way to test a particular hypothesis; in the second experiment, called the control experiment, that variable is left unaltered'}\n",
      "{'word': 'The hypothesis made a clear prediction', 'definition': 'that the sun would bend the path of light passing by it'}\n",
      "{'word': 'A hypothesis that a successful scientist tests is not just any hypothesis; rather, it is an educated guess or a hunch, in which the scientist integrates all that he or she knows and allows his or her imagination full play, in an attempt to get a sense of what might be true (see Box', 'definition': 'How Biologists Do Their Work)'}\n",
      "{'word': '2200', 'definition': 'years ago, the Greek Eratosthenes used deductive reasoning to accurately estimate the circumference of the earth'}\n",
      "{'word': '1600', 'definition': 's in Europe, when Francis Bacon, Isaac Newton, and others began to use the results of particular experiments to infer general principles about how the world operates'}\n",
      "15\n"
     ]
    }
   ],
   "source": [
    "m.execute()"
   ]
  },
  {
   "cell_type": "code",
   "execution_count": null,
   "id": "215f5544-15ad-4f20-bbd0-d4887c20f3a4",
   "metadata": {},
   "outputs": [],
   "source": []
  },
  {
   "cell_type": "code",
   "execution_count": null,
   "id": "549ff2c1-9271-4c22-a081-e46264cc14d6",
   "metadata": {},
   "outputs": [],
   "source": []
  },
  {
   "cell_type": "code",
   "execution_count": null,
   "id": "7ab95501-f5ff-4505-bc3a-cb7821966757",
   "metadata": {},
   "outputs": [],
   "source": []
  },
  {
   "cell_type": "code",
   "execution_count": null,
   "id": "4319fd8f-c0ec-4683-8e07-551df131189f",
   "metadata": {},
   "outputs": [],
   "source": []
  },
  {
   "cell_type": "code",
   "execution_count": null,
   "id": "b9f26834-6dbe-4e53-a19b-89ee8c55bc6d",
   "metadata": {},
   "outputs": [],
   "source": []
  },
  {
   "cell_type": "code",
   "execution_count": null,
   "id": "55d93b06-5417-4364-8080-04b2418e1f0c",
   "metadata": {},
   "outputs": [],
   "source": []
  }
 ],
 "metadata": {
  "kernelspec": {
   "display_name": "Python 3",
   "language": "python",
   "name": "python3"
  },
  "language_info": {
   "codemirror_mode": {
    "name": "ipython",
    "version": 3
   },
   "file_extension": ".py",
   "mimetype": "text/x-python",
   "name": "python",
   "nbconvert_exporter": "python",
   "pygments_lexer": "ipython3",
   "version": "3.8.8"
  }
 },
 "nbformat": 4,
 "nbformat_minor": 5
}
