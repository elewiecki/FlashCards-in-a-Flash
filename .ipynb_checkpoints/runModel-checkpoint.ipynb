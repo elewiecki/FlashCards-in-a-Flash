{
 "cells": [
  {
   "cell_type": "code",
   "execution_count": 1,
   "id": "f7df1e9d-b38b-4d7f-9a52-e926571edaa4",
   "metadata": {},
   "outputs": [],
   "source": [
    "import model as m"
   ]
  },
  {
   "cell_type": "code",
   "execution_count": 2,
   "id": "b810e5a8-4b9d-4c95-a62b-9c2ee041e1bb",
   "metadata": {},
   "outputs": [
    {
     "name": "stdout",
     "output_type": "stream",
     "text": [
      "{'word': 'Waterboarding', 'definition': 'form of torture in which water is poured over a cloth covering the face and breathing passages of an immobilized captive, causing the person to experience the sensation of drowning'}\n",
      "{'word': '[8]  Waterboarding', 'definition': 'used in diverse places and at various points in history, including the Spanish and Flemish Inquisitions, by the United States military during the Philippine–American War,[9] by U.S. law enforcement,[10] by Japanese and German officials during World War II,[11] by the French in the Algerian War, by the U.S. during the Vietnam War (despite a ban on the practice by U.S. generals),[11] by the Pinochet regime in Chile,[12] by the Khmer Rouge in Cambodia, by the British Army in Northern Ireland,[13] and by South African police during the Apartheid era'}\n",
      "{'word': '[14] Historically, waterboarding', 'definition': 'viewed as an especially severe form of torture'}\n",
      "{'word': 'In 2002 and 2003, the CIA waterboarded at least three Al-Qaeda suspects', 'definition': 'Abu Zubaydah, Khalid Sheikh Mohammed, and Abd al-Rahim al-Nashiri'}\n",
      "{'word': '2002', 'definition': 'and 2003, the CIA waterboarded at least three Al-Qaeda suspects: Abu Zubaydah, Khalid Sheikh Mohammed, and Abd al-Rahim al-Nashiri'}\n",
      "{'word': '2005', 'definition': ', the United States passed the Detainee Treatment Act, which banned U.S. military from using torture (including waterboarding); the bill was signed into law by President George W. Bush'}\n",
      "{'word': '2008', 'definition': ', President Bush vetoed it'}\n",
      "{'word': '2009', 'definition': ', U.S. President Barack Obama signed Executive Order 13491, which banned the use of waterboarding and other forms of torture in interrogations of detainees by any government agency'}\n",
      "8\n"
     ]
    }
   ],
   "source": [
    "m.execute()"
   ]
  },
  {
   "cell_type": "code",
   "execution_count": null,
   "id": "215f5544-15ad-4f20-bbd0-d4887c20f3a4",
   "metadata": {},
   "outputs": [],
   "source": []
  },
  {
   "cell_type": "code",
   "execution_count": null,
   "id": "549ff2c1-9271-4c22-a081-e46264cc14d6",
   "metadata": {},
   "outputs": [],
   "source": []
  },
  {
   "cell_type": "code",
   "execution_count": null,
   "id": "7ab95501-f5ff-4505-bc3a-cb7821966757",
   "metadata": {},
   "outputs": [],
   "source": []
  },
  {
   "cell_type": "code",
   "execution_count": null,
   "id": "4319fd8f-c0ec-4683-8e07-551df131189f",
   "metadata": {},
   "outputs": [],
   "source": []
  },
  {
   "cell_type": "code",
   "execution_count": null,
   "id": "b9f26834-6dbe-4e53-a19b-89ee8c55bc6d",
   "metadata": {},
   "outputs": [],
   "source": []
  },
  {
   "cell_type": "code",
   "execution_count": null,
   "id": "55d93b06-5417-4364-8080-04b2418e1f0c",
   "metadata": {},
   "outputs": [],
   "source": []
  }
 ],
 "metadata": {
  "kernelspec": {
   "display_name": "Python 3",
   "language": "python",
   "name": "python3"
  },
  "language_info": {
   "codemirror_mode": {
    "name": "ipython",
    "version": 3
   },
   "file_extension": ".py",
   "mimetype": "text/x-python",
   "name": "python",
   "nbconvert_exporter": "python",
   "pygments_lexer": "ipython3",
   "version": "3.8.8"
  }
 },
 "nbformat": 4,
 "nbformat_minor": 5
}
