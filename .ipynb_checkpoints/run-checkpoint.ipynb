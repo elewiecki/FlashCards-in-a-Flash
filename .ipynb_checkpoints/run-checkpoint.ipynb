{
 "cells": [
  {
   "cell_type": "code",
   "execution_count": 1,
   "id": "4d12af33-2aa9-4b5c-8219-55fbc928bee9",
   "metadata": {},
   "outputs": [],
   "source": [
    "'''\n",
    "this is the file we use to test our source code\n",
    "\n",
    "\n",
    "\n",
    "'''\n",
    "from selenium import webdriver\n",
    "import quizletbot as qb\n"
   ]
  },
  {
   "cell_type": "code",
   "execution_count": 2,
   "id": "eea88837-3fc6-4f4a-8f0b-0458c3de5780",
   "metadata": {},
   "outputs": [],
   "source": [
    "bot = qb.QuizletBot(qb.cards)\n",
    "bot.login()\n",
    "#bot.createFlashcards()"
   ]
  },
  {
   "cell_type": "code",
   "execution_count": null,
   "id": "b46f3d68-bec6-420e-8274-efd75a8f01f7",
   "metadata": {},
   "outputs": [],
   "source": []
  },
  {
   "cell_type": "code",
   "execution_count": 3,
   "id": "50942ffd-d2ad-498b-919a-3d6b3420308c",
   "metadata": {},
   "outputs": [
    {
     "ename": "AttributeError",
     "evalue": "'WebDriver' object has no attribute 'windows'",
     "output_type": "error",
     "traceback": [
      "\u001b[0;31m---------------------------------------------------------------------------\u001b[0m",
      "\u001b[0;31mAttributeError\u001b[0m                            Traceback (most recent call last)",
      "\u001b[0;32m<ipython-input-3-2f21a585fcca>\u001b[0m in \u001b[0;36m<module>\u001b[0;34m\u001b[0m\n\u001b[1;32m      1\u001b[0m \u001b[0mwindows\u001b[0m \u001b[0;34m=\u001b[0m \u001b[0mbot\u001b[0m\u001b[0;34m.\u001b[0m\u001b[0mdriver\u001b[0m\u001b[0;34m.\u001b[0m\u001b[0mwindow_handles\u001b[0m\u001b[0;34m\u001b[0m\u001b[0;34m\u001b[0m\u001b[0m\n\u001b[0;32m----> 2\u001b[0;31m \u001b[0mbot\u001b[0m\u001b[0;34m.\u001b[0m\u001b[0mdriver\u001b[0m\u001b[0;34m.\u001b[0m\u001b[0mswitch_to_window\u001b[0m\u001b[0;34m(\u001b[0m\u001b[0mbot\u001b[0m\u001b[0;34m.\u001b[0m\u001b[0mdriver\u001b[0m\u001b[0;34m.\u001b[0m\u001b[0mwindows\u001b[0m\u001b[0;34m[\u001b[0m\u001b[0;36m0\u001b[0m\u001b[0;34m]\u001b[0m\u001b[0;34m)\u001b[0m\u001b[0;34m\u001b[0m\u001b[0;34m\u001b[0m\u001b[0m\n\u001b[0m\u001b[1;32m      3\u001b[0m \u001b[0mprint\u001b[0m\u001b[0;34m(\u001b[0m\u001b[0mwindows\u001b[0m\u001b[0;34m)\u001b[0m\u001b[0;34m\u001b[0m\u001b[0;34m\u001b[0m\u001b[0m\n",
      "\u001b[0;31mAttributeError\u001b[0m: 'WebDriver' object has no attribute 'windows'"
     ]
    }
   ],
   "source": [
    "windows = bot.driver.window_handles\n",
    "bot.driver.switch_to_window(windows[0])\n",
    "print(windows)"
   ]
  },
  {
   "cell_type": "code",
   "execution_count": null,
   "id": "ef7fc4ed-4d3f-4d87-8b09-2afd217f5a2b",
   "metadata": {},
   "outputs": [],
   "source": [
    "x_btn = bot.driver.find_element_by_xpath('/html/body/div[13]/div/div[1]/div/button/svg')\n",
    "x_btn.click()"
   ]
  },
  {
   "cell_type": "code",
   "execution_count": null,
   "id": "043065c8-4101-45f3-9ae9-521466e7d9b4",
   "metadata": {},
   "outputs": [],
   "source": []
  },
  {
   "cell_type": "code",
   "execution_count": null,
   "id": "c3dd2854-9a93-4a32-b385-79c80ee0563b",
   "metadata": {},
   "outputs": [],
   "source": []
  },
  {
   "cell_type": "code",
   "execution_count": null,
   "id": "8a80f790-ec85-4f4c-980e-1a78c5572306",
   "metadata": {},
   "outputs": [],
   "source": []
  },
  {
   "cell_type": "code",
   "execution_count": null,
   "id": "4eefd9e1-3e51-4506-9f32-facd58c45e08",
   "metadata": {},
   "outputs": [],
   "source": []
  },
  {
   "cell_type": "code",
   "execution_count": null,
   "id": "9e6b5b08-b306-49aa-aba7-f1d421fcc6e2",
   "metadata": {},
   "outputs": [],
   "source": []
  },
  {
   "cell_type": "code",
   "execution_count": null,
   "id": "003ebd41-8f95-47e5-8345-94cbf4d93db6",
   "metadata": {},
   "outputs": [],
   "source": []
  },
  {
   "cell_type": "code",
   "execution_count": null,
   "id": "cef85b38-4b08-4da0-9671-465edf478bf1",
   "metadata": {},
   "outputs": [],
   "source": []
  },
  {
   "cell_type": "code",
   "execution_count": null,
   "id": "85af4de6-0393-461d-9a1d-15d024149a46",
   "metadata": {},
   "outputs": [],
   "source": []
  }
 ],
 "metadata": {
  "kernelspec": {
   "display_name": "Python 3",
   "language": "python",
   "name": "python3"
  },
  "language_info": {
   "codemirror_mode": {
    "name": "ipython",
    "version": 3
   },
   "file_extension": ".py",
   "mimetype": "text/x-python",
   "name": "python",
   "nbconvert_exporter": "python",
   "pygments_lexer": "ipython3",
   "version": "3.8.8"
  }
 },
 "nbformat": 4,
 "nbformat_minor": 5
}
