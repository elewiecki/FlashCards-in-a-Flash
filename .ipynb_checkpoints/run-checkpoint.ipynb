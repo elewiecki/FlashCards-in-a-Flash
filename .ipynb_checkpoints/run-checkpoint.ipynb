{
 "cells": [
  {
   "cell_type": "code",
   "execution_count": 1,
   "id": "4d12af33-2aa9-4b5c-8219-55fbc928bee9",
   "metadata": {},
   "outputs": [],
   "source": [
    "'''\n",
    "this is the file we use to test our source code\n",
    "\n",
    "\n",
    "\n",
    "'''\n",
    "from selenium import webdriver\n",
    "import quizletbot as qb\n",
    "from time import sleep\n"
   ]
  },
  {
   "cell_type": "code",
   "execution_count": 2,
   "id": "eea88837-3fc6-4f4a-8f0b-0458c3de5780",
   "metadata": {},
   "outputs": [
    {
     "data": {
      "text/plain": [
       "<bound method QuizletBot.createFlashcards of <quizletbot.QuizletBot object at 0x00000161D0916370>>"
      ]
     },
     "execution_count": 2,
     "metadata": {},
     "output_type": "execute_result"
    }
   ],
   "source": [
    "bot = qb.QuizletBot(qb.cards, 'TITLE')\n",
    "bot.login()\n",
    "bot.createFlashcards()"
   ]
  },
  {
   "cell_type": "code",
   "execution_count": 3,
   "id": "b46f3d68-bec6-420e-8274-efd75a8f01f7",
   "metadata": {},
   "outputs": [
    {
     "data": {
      "text/plain": [
       "'sleep(1)\\nx_btn = bot.driver.find_element_by_xpath(\\'/html/body/div[13]/div/div[1]/div/button\\')\\nx_btn.click()\\n\\nsleep(1)\\nimport_btn = bot.driver.find_element_by_xpath(\\'//*[@id=\"SetPageTarget\"]/div/div[1]/div[3]/div/a\\')\\nimport_btn.click()\\n\\nsleep(1)\\ncostom_btn = bot.driver.find_element_by_xpath(\\'//*[@id=\"SetPageTarget\"]/div/div[3]/div[1]/div/form/div[2]/div[1]/div/label[3]/span[1]\\')\\ncostom_btn.click()\\n\\nsleep(1)\\nseparate_in = bot.driver.find_element_by_xpath(\\'//*[@id=\"SetPageTarget\"]/div/div[3]/div[1]/div/form/div[2]/div[1]/div/label[3]/span[2]/span/label/div/input\\')\\nseparate_in.send_keys(\"@@@\")\\n\\ndata_in = bot.driver.find_element_by_xpath(\\'//*[@id=\"SetPageTarget\"]/div/div[3]/div[1]/div/form/textarea\\')\\ndata_in.send_keys(qb.cards)\\n\\nimport_btn2 = bot.driver.find_element_by_xpath(\\'//*[@id=\"SetPageTarget\"]/div/div[3]/div[1]/div/form/div[1]/button\\')\\nimport_btn2.click()\\n\\nsleep(1)\\ntitle_in = bot.driver.find_element_by_xpath(\\'//*[@id=\"SetPageTarget\"]/div/div[1]/div[2]/div/div[1]/div/label/input\\')\\ntitle_in.send_keys(bot.title)\\n\\ncreate_btn = bot.driver.find_element_by_xpath(\\'//*[@id=\"SetPageTarget\"]/div/div[2]/div/div/div[2]/div/button/span/span\\')\\ncreate_btn.click()\\n\\nsleep(1)\\ntLangDropDown = bot.driver.find_element_by_xpath(\\'//*[@id=\"SetPageTarget\"]/div/div[2]/div[2]/div/div[1]/div[6]/div[1]/div[1]/div/div[3]/div[1]/div[2]/div/div/div[1]/div/div/span[2]/div[2]/button\\')\\ntLangDropDown.click()\\nsleep(1)\\n\\ntLang = bot.driver.find_element_by_xpath(\\'//*[@id=\"react-select-2--option-1\"]\\')\\ntLang.click()\\nsleep(1)\\ndLangDropDown = bot.driver.find_element_by_xpath(\\'//*[@id=\"SetPageTarget\"]/div/div[2]/div[2]/div/div[1]/div[6]/div[1]/div[1]/div/div[3]/div[1]/div[2]/div/div/div[2]/div/div/div[2]/span[2]/div[2]/button\\')\\ndLangDropDown.click()\\nsleep(1)\\ndLang = bot.driver.find_element_by_xpath(\\'//*[@id=\"react-select-3--option-1\"]\\')\\ndLang.click()\\nsleep(1)\\ncreate_btn = bot.driver.find_element_by_xpath(\\'//*[@id=\"SetPageTarget\"]/div/div[2]/div/div/div[2]/div/button/span/span\\')\\ncreate_btn.click()\\nreturn'"
      ]
     },
     "execution_count": 3,
     "metadata": {},
     "output_type": "execute_result"
    }
   ],
   "source": [
    "        '''sleep(1)\n",
    "        x_btn = bot.driver.find_element_by_xpath('/html/body/div[13]/div/div[1]/div/button')\n",
    "        x_btn.click()\n",
    "        \n",
    "        sleep(1)\n",
    "        import_btn = bot.driver.find_element_by_xpath('//*[@id=\"SetPageTarget\"]/div/div[1]/div[3]/div/a')\n",
    "        import_btn.click()\n",
    "        \n",
    "        sleep(1)\n",
    "        costom_btn = bot.driver.find_element_by_xpath('//*[@id=\"SetPageTarget\"]/div/div[3]/div[1]/div/form/div[2]/div[1]/div/label[3]/span[1]')\n",
    "        costom_btn.click()\n",
    "        \n",
    "        sleep(1)\n",
    "        separate_in = bot.driver.find_element_by_xpath('//*[@id=\"SetPageTarget\"]/div/div[3]/div[1]/div/form/div[2]/div[1]/div/label[3]/span[2]/span/label/div/input')\n",
    "        separate_in.send_keys(\"@@@\")\n",
    "        \n",
    "        data_in = bot.driver.find_element_by_xpath('//*[@id=\"SetPageTarget\"]/div/div[3]/div[1]/div/form/textarea')\n",
    "        data_in.send_keys(qb.cards)\n",
    "        \n",
    "        import_btn2 = bot.driver.find_element_by_xpath('//*[@id=\"SetPageTarget\"]/div/div[3]/div[1]/div/form/div[1]/button')\n",
    "        import_btn2.click()\n",
    "        \n",
    "        sleep(1)\n",
    "        title_in = bot.driver.find_element_by_xpath('//*[@id=\"SetPageTarget\"]/div/div[1]/div[2]/div/div[1]/div/label/input')\n",
    "        title_in.send_keys(bot.title)\n",
    "        \n",
    "        create_btn = bot.driver.find_element_by_xpath('//*[@id=\"SetPageTarget\"]/div/div[2]/div/div/div[2]/div/button/span/span')\n",
    "        create_btn.click()\n",
    "        \n",
    "        sleep(1)\n",
    "        tLangDropDown = bot.driver.find_element_by_xpath('//*[@id=\"SetPageTarget\"]/div/div[2]/div[2]/div/div[1]/div[6]/div[1]/div[1]/div/div[3]/div[1]/div[2]/div/div/div[1]/div/div/span[2]/div[2]/button')\n",
    "        tLangDropDown.click()\n",
    "        sleep(1)\n",
    "\n",
    "        tLang = bot.driver.find_element_by_xpath('//*[@id=\"react-select-2--option-1\"]')\n",
    "        tLang.click()\n",
    "        sleep(1)\n",
    "        dLangDropDown = bot.driver.find_element_by_xpath('//*[@id=\"SetPageTarget\"]/div/div[2]/div[2]/div/div[1]/div[6]/div[1]/div[1]/div/div[3]/div[1]/div[2]/div/div/div[2]/div/div/div[2]/span[2]/div[2]/button')\n",
    "        dLangDropDown.click()\n",
    "        sleep(1)\n",
    "        dLang = bot.driver.find_element_by_xpath('//*[@id=\"react-select-3--option-1\"]')\n",
    "        dLang.click()\n",
    "        sleep(1)\n",
    "        create_btn = bot.driver.find_element_by_xpath('//*[@id=\"SetPageTarget\"]/div/div[2]/div/div/div[2]/div/button/span/span')\n",
    "        create_btn.click()\n",
    "        return'''"
   ]
  },
  {
   "cell_type": "code",
   "execution_count": null,
   "id": "50942ffd-d2ad-498b-919a-3d6b3420308c",
   "metadata": {},
   "outputs": [],
   "source": []
  },
  {
   "cell_type": "code",
   "execution_count": null,
   "id": "ef7fc4ed-4d3f-4d87-8b09-2afd217f5a2b",
   "metadata": {},
   "outputs": [],
   "source": []
  },
  {
   "cell_type": "code",
   "execution_count": null,
   "id": "46a25199-ebb6-4e78-b6b9-f2d886b05435",
   "metadata": {},
   "outputs": [],
   "source": []
  },
  {
   "cell_type": "code",
   "execution_count": 4,
   "id": "32ce892a-7744-46a7-a0c2-fd00da293ac9",
   "metadata": {},
   "outputs": [],
   "source": [
    "\n",
    "#termlang_btn = bot.driver.find_element_by_xpath('//*[@id=\"SetPageTarget\"]/div/div[2]/div[2]/div/div[1]/div[6]/div[1]/div[1]/div/div[3]/div[1]/div[2]/div/div/div[1]/div/div/span[2]/div[2]/button')\n",
    "#termlang_btn.click()"
   ]
  },
  {
   "cell_type": "code",
   "execution_count": null,
   "id": "043065c8-4101-45f3-9ae9-521466e7d9b4",
   "metadata": {},
   "outputs": [],
   "source": []
  },
  {
   "cell_type": "code",
   "execution_count": null,
   "id": "c3dd2854-9a93-4a32-b385-79c80ee0563b",
   "metadata": {},
   "outputs": [],
   "source": []
  },
  {
   "cell_type": "code",
   "execution_count": null,
   "id": "8a80f790-ec85-4f4c-980e-1a78c5572306",
   "metadata": {},
   "outputs": [],
   "source": []
  },
  {
   "cell_type": "code",
   "execution_count": null,
   "id": "4eefd9e1-3e51-4506-9f32-facd58c45e08",
   "metadata": {},
   "outputs": [],
   "source": []
  },
  {
   "cell_type": "code",
   "execution_count": null,
   "id": "9e6b5b08-b306-49aa-aba7-f1d421fcc6e2",
   "metadata": {},
   "outputs": [],
   "source": []
  },
  {
   "cell_type": "code",
   "execution_count": null,
   "id": "003ebd41-8f95-47e5-8345-94cbf4d93db6",
   "metadata": {},
   "outputs": [],
   "source": []
  },
  {
   "cell_type": "code",
   "execution_count": null,
   "id": "cef85b38-4b08-4da0-9671-465edf478bf1",
   "metadata": {},
   "outputs": [],
   "source": []
  },
  {
   "cell_type": "code",
   "execution_count": null,
   "id": "85af4de6-0393-461d-9a1d-15d024149a46",
   "metadata": {},
   "outputs": [],
   "source": []
  }
 ],
 "metadata": {
  "kernelspec": {
   "display_name": "Python 3",
   "language": "python",
   "name": "python3"
  },
  "language_info": {
   "codemirror_mode": {
    "name": "ipython",
    "version": 3
   },
   "file_extension": ".py",
   "mimetype": "text/x-python",
   "name": "python",
   "nbconvert_exporter": "python",
   "pygments_lexer": "ipython3",
   "version": "3.8.8"
  }
 },
 "nbformat": 4,
 "nbformat_minor": 5
}
