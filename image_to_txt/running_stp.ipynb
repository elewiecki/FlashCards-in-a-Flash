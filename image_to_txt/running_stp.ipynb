{
 "cells": [
  {
   "cell_type": "code",
   "execution_count": 1,
   "id": "ec597302-8bab-46e3-b0d0-64764e299c88",
   "metadata": {},
   "outputs": [
    {
     "name": "stdin",
     "output_type": "stream",
     "text": [
      "Please enter if you want to copy paste your paragraph, or provide a screenshot. Respond with ss for screenshot or cp for copypaste  ss\n",
      "Please type your image name with .png at the end:  def2.png\n"
     ]
    },
    {
     "name": "stdout",
     "output_type": "stream",
     "text": [
      "b' \\n\\n \\n\\nELEMENTARY ROW OPERATIONS\\n\\n1. (Replacement) Replace one row by the sum of itself and a multiple of another\\nrow.!\\n\\n2. (Interchange) Interchange two rows.\\n3. (Scaling) Multiply all entries in a row by a nonzero constant.\\n\\n \\n\\n \\n\\n----------\\n'\n"
     ]
    }
   ],
   "source": [
    "%run screenshot_to_string.py"
   ]
  }
 ],
 "metadata": {
  "kernelspec": {
   "display_name": "Python 3",
   "language": "python",
   "name": "python3"
  },
  "language_info": {
   "codemirror_mode": {
    "name": "ipython",
    "version": 3
   },
   "file_extension": ".py",
   "mimetype": "text/x-python",
   "name": "python",
   "nbconvert_exporter": "python",
   "pygments_lexer": "ipython3",
   "version": "3.8.8"
  }
 },
 "nbformat": 4,
 "nbformat_minor": 5
}
