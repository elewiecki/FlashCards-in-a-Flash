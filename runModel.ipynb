{
 "cells": [
  {
   "cell_type": "code",
   "execution_count": 1,
   "id": "f7df1e9d-b38b-4d7f-9a52-e926571edaa4",
   "metadata": {},
   "outputs": [],
   "source": [
    "import model as m"
   ]
  },
  {
   "cell_type": "code",
   "execution_count": 2,
   "id": "b810e5a8-4b9d-4c95-a62b-9c2ee041e1bb",
   "metadata": {},
   "outputs": [
    {
     "name": "stdout",
     "output_type": "stream",
     "text": [
      "Waterboarding is a form of torture in which water is poured over a cloth covering the face and breathing passages of an immobilized captive, causing the person to experience the sensation of drowning. In the most common method of waterboarding, the captive's face is covered with cloth or some other thin material and immobilized on their back at an incline of 10 to 20 degrees.[1][2] Torturers pour water onto the face over the breathing passages, causing an almost immediate gag reflex and creating a drowning sensation for the captive.[3][4][5] Normally, water is poured intermittently to prevent death. However, if the water is poured uninterruptedly it will lead to death by asphyxia, also called dry drowning. Waterboarding can cause extreme pain, damage to lungs, brain damage from oxygen deprivation, other physical injuries including broken bones due to struggling against restraints, and lasting psychological damage.[6] Adverse physical effects can last for months, and psychological effects for years.[7] The term \"water board torture\" appeared in press reports as early as 1976.[8]\n",
      "\n",
      "Waterboarding has been used in diverse places and at various points in history, including the Spanish and Flemish Inquisitions, by the United States military during the Philippineâ€“American War,[9] by U.S. law enforcement,[10] by Japanese and German officials during World War II,[11] by the French in the Algerian War, by the U.S. during the Vietnam War (despite a ban on the practice by U.S. generals),[11] by the Pinochet regime in Chile,[12] by the Khmer Rouge in Cambodia, by the British Army in Northern Ireland,[13] and by South African police during the Apartheid era. In the wake of World War II, the U.S. executed Japanese war criminals convicted of, among other crimes, waterboarding American prisoners of war.[14] Historically, waterboarding has been viewed as an especially severe form of torture.[15]\n",
      "\n",
      "The use of waterboarding became a matter of public controversy in the United States during the War on Terror in the 2000s. In 2002 and 2003, the CIA waterboarded at least three Al-Qaeda suspects: Abu Zubaydah, Khalid Sheikh Mohammed, and Abd al-Rahim al-Nashiri.[16][17] The CIA relied on the then-secret torture memos, prepared by the Department of Justice's Office of Legal Counsel, which authorized the use of so-called \"enhanced interrogation techniques\", including waterboarding, on extrajudicial prisoners of the United States.[18] In December 2005, the United States passed the Detainee Treatment Act, which banned U.S. military from using torture (including waterboarding); the bill was signed into law by President George W. Bush.[19][20][21] However, the law did not affect the CIA's use of waterboarding.[20] When Congress passed a bill restricting the use of waterboarding by the CIA in 2008, President Bush vetoed it.[22] In January 2009, U.S. President Barack Obama signed Executive Order 13491, which banned the use of waterboarding and other forms of torture in interrogations of detainees by any government agency. In April 2009, President Obama stated that he considered waterboarding to be torture.[23]\n",
      "{'word': 'Waterboarding', 'definition': 'form of torture in which water is poured over a cloth covering the face and breathing passages of an immobilized captive, causing the person to experience the sensation of drowning'}\n",
      "{'word': '[14] Historically, waterboarding', 'definition': 'viewed as an especially severe form of torture'}\n"
     ]
    },
    {
     "data": {
      "text/plain": [
       "[{'word': 'Waterboarding',\n",
       "  'definition': 'form of torture in which water is poured over a cloth covering the face and breathing passages of an immobilized captive, causing the person to experience the sensation of drowning'},\n",
       " {'word': '[14] Historically, waterboarding',\n",
       "  'definition': 'viewed as an especially severe form of torture'}]"
      ]
     },
     "execution_count": 2,
     "metadata": {},
     "output_type": "execute_result"
    }
   ],
   "source": [
    "m.createCardDictionary()"
   ]
  },
  {
   "cell_type": "code",
   "execution_count": null,
   "id": "215f5544-15ad-4f20-bbd0-d4887c20f3a4",
   "metadata": {},
   "outputs": [],
   "source": []
  },
  {
   "cell_type": "code",
   "execution_count": null,
   "id": "549ff2c1-9271-4c22-a081-e46264cc14d6",
   "metadata": {},
   "outputs": [],
   "source": []
  },
  {
   "cell_type": "code",
   "execution_count": null,
   "id": "7ab95501-f5ff-4505-bc3a-cb7821966757",
   "metadata": {},
   "outputs": [],
   "source": []
  },
  {
   "cell_type": "code",
   "execution_count": null,
   "id": "4319fd8f-c0ec-4683-8e07-551df131189f",
   "metadata": {},
   "outputs": [],
   "source": []
  },
  {
   "cell_type": "code",
   "execution_count": null,
   "id": "b9f26834-6dbe-4e53-a19b-89ee8c55bc6d",
   "metadata": {},
   "outputs": [],
   "source": []
  },
  {
   "cell_type": "code",
   "execution_count": null,
   "id": "55d93b06-5417-4364-8080-04b2418e1f0c",
   "metadata": {},
   "outputs": [],
   "source": []
  }
 ],
 "metadata": {
  "kernelspec": {
   "display_name": "Python 3",
   "language": "python",
   "name": "python3"
  },
  "language_info": {
   "codemirror_mode": {
    "name": "ipython",
    "version": 3
   },
   "file_extension": ".py",
   "mimetype": "text/x-python",
   "name": "python",
   "nbconvert_exporter": "python",
   "pygments_lexer": "ipython3",
   "version": "3.8.8"
  }
 },
 "nbformat": 4,
 "nbformat_minor": 5
}
